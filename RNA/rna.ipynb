{
 "cells": [
  {
   "cell_type": "code",
   "execution_count": 1,
   "id": "41755945",
   "metadata": {},
   "outputs": [
    {
     "name": "stdout",
     "output_type": "stream",
     "text": [
      "لطفاً رشته DNA را وارد کنید: GATGGAACTTGACTACGTCTAGGAAC\n",
      "GAUGGAACUUGACUACGUCUAGGAAC\n"
     ]
    }
   ],
   "source": [
    "# Rosalind-Bioinformatics-Solution/RNA/rna.py\n",
    "\n",
    "def dna_to_rna(dna_sequence):\n",
    "    \"\"\"\n",
    "    این تابع یک رشته DNA را به رشته RNA متناظر آن تبدیل می کند.\n",
    "    کاراکتر 'T' با 'U' جایگزین می شود.\n",
    "    \"\"\"\n",
    "    rna_sequence = dna_sequence.replace('T', 'U')\n",
    "    return rna_sequence\n",
    "\n",
    "if __name__ == \"__main__\":\n",
    "    # گرفتن ورودی از کاربر (یا استفاده از ورودی نمونه برای تست)\n",
    "    dna_input = input(\"لطفاً رشته DNA را وارد کنید: \")\n",
    "    # dna_input = \"GATGGAACTTGACTACGTCTAGGAAC\" # می توانید برای تست از این خط استفاده کنید\n",
    "\n",
    "    rna_output = dna_to_rna(dna_input)\n",
    "    print(rna_output)"
   ]
  },
  {
   "cell_type": "code",
   "execution_count": null,
   "id": "40672449",
   "metadata": {},
   "outputs": [],
   "source": []
  }
 ],
 "metadata": {
  "kernelspec": {
   "display_name": "Python 3 (ipykernel)",
   "language": "python",
   "name": "python3"
  },
  "language_info": {
   "codemirror_mode": {
    "name": "ipython",
    "version": 3
   },
   "file_extension": ".py",
   "mimetype": "text/x-python",
   "name": "python",
   "nbconvert_exporter": "python",
   "pygments_lexer": "ipython3",
   "version": "3.9.12"
  }
 },
 "nbformat": 4,
 "nbformat_minor": 5
}
